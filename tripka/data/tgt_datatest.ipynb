{
 "cells": [
  {
   "cell_type": "code",
   "execution_count": 2,
   "metadata": {},
   "outputs": [],
   "source": [
    "import numpy as np\n",
    "from ogb.utils.features import atom_to_feature_vector, bond_to_feature_vector\n",
    "from rdkit import Chem\n",
    "import torch\n",
    "from rdkit.Chem import AllChem\n",
    "\n",
    "def mol2graph(mol: Chem.Mol) -> tuple:\n",
    "    \"\"\"\n",
    "    Convert an RDKit molecule object to a graph representation.\n",
    "\n",
    "    Args:\n",
    "        mol (Chem.Mol): The RDKit molecule object.\n",
    "\n",
    "    Returns:\n",
    "        tuple: A tuple containing:\n",
    "            - num_nodes (np.int16): The number of nodes in the graph.\n",
    "            - edges (np.ndarray): The edges of the graph represented as an array of shape (2, num_edges).\n",
    "            - node_features (np.ndarray): The node features represented as an array of shape (num_nodes, num_node_features).\n",
    "            - edge_features (np.ndarray): The edge features represented as an array of shape (num_edges, num_edge_features).\n",
    "    \"\"\"\n",
    "    # atoms\n",
    "    atom_features_list = []\n",
    "    for atom in mol.GetAtoms():\n",
    "        atom_features_list.append(atom_to_feature_vector(atom))\n",
    "    x = np.array(atom_features_list, dtype=np.int64)\n",
    "\n",
    "    # bonds\n",
    "    num_bond_features = 3  # bond type, bond stereo, is_conjugated\n",
    "    if len(mol.GetBonds()) > 0:  # mol has bonds\n",
    "        edges_list = []\n",
    "        edge_features_list = []\n",
    "        for bond in mol.GetBonds():\n",
    "            i = bond.GetBeginAtomIdx()\n",
    "            j = bond.GetEndAtomIdx()\n",
    "\n",
    "            edge_feature = bond_to_feature_vector(bond)\n",
    "\n",
    "            # add edges in both directions\n",
    "            edges_list.append((i, j))\n",
    "            edge_features_list.append(edge_feature)\n",
    "            edges_list.append((j, i))\n",
    "            edge_features_list.append(edge_feature)\n",
    "\n",
    "        # data.edge_index: Graph connectivity in COO format with shape [2, num_edges]\n",
    "        edge_index = np.array(edges_list, dtype=np.int64).T\n",
    "\n",
    "        # data.edge_attr: Edge feature matrix with shape [num_edges, num_edge_features]\n",
    "        edge_attr = np.array(edge_features_list, dtype=np.int64)\n",
    "\n",
    "    else:  # mol has no bonds\n",
    "        edge_index = np.empty((2, 0), dtype=np.int64)\n",
    "        edge_attr = np.empty((0, num_bond_features), dtype=np.int64)\n",
    "\n",
    "    num_nodes = np.array(len(x), dtype=np.int16)\n",
    "    edges = edge_index.T.astype(np.int16)\n",
    "    edge_features = edge_attr.astype(np.int16)\n",
    "    node_features = x.astype(np.int16)\n",
    "\n",
    "    return num_nodes, edges, node_features, edge_features"
   ]
  },
  {
   "cell_type": "code",
   "execution_count": 3,
   "metadata": {},
   "outputs": [
    {
     "data": {
      "text/plain": [
       "(18, 9)"
      ]
     },
     "execution_count": 3,
     "metadata": {},
     "output_type": "execute_result"
    }
   ],
   "source": [
    "smiles='CC(c1cc(Cc2c3cccc2)c3cc1)C(O)=O'\n",
    "mol =Chem.MolFromSmiles(smiles)\n",
    "num_nodes, edges, node_features, edge_features = mol2graph(mol)\n",
    "node_features.shape"
   ]
  },
  {
   "cell_type": "code",
   "execution_count": 3,
   "metadata": {},
   "outputs": [],
   "source": [
    "NODE_FEATURES_OFFSET = 128\n",
    "EDGE_FEATURES_OFFSET = 8\n",
    "dtype = np.float32\n",
    "NUM_CONFS=40\n",
    "\n",
    "def floyd_warshall(A):\n",
    "    n = A.shape[0]\n",
    "    D = np.zeros((n,n), dtype=np.int16)\n",
    "    \n",
    "    for i in range(n):\n",
    "        for j in range(n):\n",
    "            if i == j:\n",
    "                pass\n",
    "            elif A[i,j] == 0:\n",
    "                D[i,j] = 510\n",
    "            else:\n",
    "                D[i,j] = 1\n",
    "    \n",
    "    for k in range(n):\n",
    "        for i in range(n):\n",
    "            for j in range(n):\n",
    "                old_dist = D[i,j]\n",
    "                new_dist = D[i,k] + D[k,j]\n",
    "                if new_dist < old_dist:\n",
    "                    D[i,j] = new_dist\n",
    "    return D\n",
    "\n",
    "def preprocess_data(num_nodes, edges, node_feats, edge_feats):\n",
    "    node_feats = node_feats + np.arange(1,node_feats.shape[-1]*NODE_FEATURES_OFFSET+1,\n",
    "                                            NODE_FEATURES_OFFSET,dtype=np.int16)\n",
    "    edge_feats = edge_feats + np.arange(1,edge_feats.shape[-1]*EDGE_FEATURES_OFFSET+1,\n",
    "                                            EDGE_FEATURES_OFFSET,dtype=np.int16)\n",
    "    \n",
    "    A = np.zeros((num_nodes,num_nodes),dtype=np.int16)\n",
    "    E = np.zeros((num_nodes,num_nodes,edge_feats.shape[-1]),dtype=np.int16)\n",
    "    for k in range(edges.shape[0]):\n",
    "        i,j = edges[k,0], edges[k,1]\n",
    "        A[i,j] = 1\n",
    "        E[i,j] = edge_feats[k]\n",
    "    \n",
    "    D = floyd_warshall(A)\n",
    "    return node_feats, D, E\n",
    "\n",
    "def coords2dist(mol):\n",
    "    new_mol = Chem.AddHs(mol)\n",
    "    res = AllChem.EmbedMultipleConfs(new_mol, numConfs=NUM_CONFS, numThreads=0)\n",
    "    ### MMFF generates multiple conformations\n",
    "    # res = AllChem.MMFFOptimizeMoleculeConfs(new_mol, numThreads=0)\n",
    "    new_mol = Chem.RemoveHs(new_mol)\n",
    "    index, _ = min(enumerate(res), key=lambda x: x[1])\n",
    "    conf = new_mol.GetConformer(id=index)\n",
    "    coords = conf.GetPositions()\n",
    "    coords = coords[:new_mol.GetNumAtoms()].astype(dtype)\n",
    "    coords = torch.tensor(coords)\n",
    "    return torch.norm(coords.unsqueeze(-2) - coords.unsqueeze(-3), dim=-1)"
   ]
  },
  {
   "cell_type": "code",
   "execution_count": 14,
   "metadata": {},
   "outputs": [],
   "source": [
    "node_features, distance_matrix, edge_features_matrix = preprocess_data(num_nodes, edges, node_features, edge_features)"
   ]
  },
  {
   "cell_type": "code",
   "execution_count": 5,
   "metadata": {},
   "outputs": [],
   "source": [
    "dist_input = coords2dist(mol)"
   ]
  },
  {
   "cell_type": "code",
   "execution_count": 21,
   "metadata": {},
   "outputs": [
    {
     "data": {
      "text/plain": [
       "(34, 3)"
      ]
     },
     "execution_count": 21,
     "metadata": {},
     "output_type": "execute_result"
    }
   ],
   "source": [
    "node_features.shape[-1]\n",
    "edge_features.shape"
   ]
  },
  {
   "cell_type": "code",
   "execution_count": 22,
   "metadata": {},
   "outputs": [
    {
     "data": {
      "text/plain": [
       "array([[0, 1, 2, 3, 4, 5, 6, 7, 8, 9, 8, 7, 6, 3, 2],\n",
       "       [1, 0, 1, 2, 3, 4, 5, 6, 7, 8, 7, 6, 5, 2, 1],\n",
       "       [2, 1, 0, 1, 2, 3, 4, 5, 6, 7, 6, 5, 4, 3, 2],\n",
       "       [3, 2, 1, 0, 1, 2, 3, 4, 5, 6, 5, 4, 3, 2, 3],\n",
       "       [4, 3, 2, 1, 0, 1, 2, 3, 4, 5, 4, 3, 2, 1, 2],\n",
       "       [5, 4, 3, 2, 1, 0, 1, 2, 3, 4, 3, 2, 1, 2, 3],\n",
       "       [6, 5, 4, 3, 2, 1, 0, 1, 2, 3, 3, 2, 2, 3, 4],\n",
       "       [7, 6, 5, 4, 3, 2, 1, 0, 1, 2, 2, 1, 2, 4, 5],\n",
       "       [8, 7, 6, 5, 4, 3, 2, 1, 0, 1, 2, 2, 3, 5, 6],\n",
       "       [9, 8, 7, 6, 5, 4, 3, 2, 1, 0, 1, 2, 3, 6, 7],\n",
       "       [8, 7, 6, 5, 4, 3, 3, 2, 2, 1, 0, 1, 2, 5, 6],\n",
       "       [7, 6, 5, 4, 3, 2, 2, 1, 2, 2, 1, 0, 1, 4, 5],\n",
       "       [6, 5, 4, 3, 2, 1, 2, 2, 3, 3, 2, 1, 0, 3, 4],\n",
       "       [3, 2, 3, 2, 1, 2, 3, 4, 5, 6, 5, 4, 3, 0, 1],\n",
       "       [2, 1, 2, 3, 2, 3, 4, 5, 6, 7, 6, 5, 4, 1, 0]], dtype=int16)"
      ]
     },
     "execution_count": 22,
     "metadata": {},
     "output_type": "execute_result"
    }
   ],
   "source": [
    "dist_mat"
   ]
  },
  {
   "cell_type": "code",
   "execution_count": 27,
   "metadata": {},
   "outputs": [
    {
     "data": {
      "text/plain": [
       "(34, 3)"
      ]
     },
     "execution_count": 27,
     "metadata": {},
     "output_type": "execute_result"
    }
   ],
   "source": [
    "edge_features.shape"
   ]
  },
  {
   "cell_type": "code",
   "execution_count": null,
   "metadata": {},
   "outputs": [],
   "source": []
  }
 ],
 "metadata": {
  "kernelspec": {
   "display_name": "unipka",
   "language": "python",
   "name": "python3"
  },
  "language_info": {
   "codemirror_mode": {
    "name": "ipython",
    "version": 3
   },
   "file_extension": ".py",
   "mimetype": "text/x-python",
   "name": "python",
   "nbconvert_exporter": "python",
   "pygments_lexer": "ipython3",
   "version": "3.8.19"
  }
 },
 "nbformat": 4,
 "nbformat_minor": 2
}
